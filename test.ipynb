{
 "cells": [
  {
   "cell_type": "code",
   "execution_count": 2,
   "id": "fc917994",
   "metadata": {},
   "outputs": [
    {
     "data": {
      "text/html": [
       "<pre style=\"white-space:pre;overflow-x:auto;line-height:normal;font-family:Menlo,'DejaVu Sans Mono',consolas,'Courier New',monospace\"><span style=\"color: #7fbfbf; text-decoration-color: #7fbfbf\">[06/06/25 10:57:06] </span><span style=\"color: #000080; text-decoration-color: #000080\">INFO    </span>                                                                          <a href=\"file:///Users/bytedance/mcp-demo/client.py\" target=\"_blank\"><span style=\"color: #7f7f7f; text-decoration-color: #7f7f7f\">client.py</span></a><span style=\"color: #7f7f7f; text-decoration-color: #7f7f7f\">:</span><a href=\"file:///Users/bytedance/mcp-demo/client.py#179\" target=\"_blank\"><span style=\"color: #7f7f7f; text-decoration-color: #7f7f7f\">179</span></a>\n",
       "<span style=\"color: #7fbfbf; text-decoration-color: #7fbfbf\">                    </span>         Connected to server with tools: <span style=\"font-weight: bold\">[</span><span style=\"color: #008000; text-decoration-color: #008000\">'get_alerts'</span><span style=\"font-weight: bold\">]</span>                           <span style=\"color: #7f7f7f; text-decoration-color: #7f7f7f\">             </span>\n",
       "</pre>\n"
      ],
      "text/plain": [
       "\u001b[2;36m[06/06/25 10:57:06]\u001b[0m\u001b[2;36m \u001b[0m\u001b[34mINFO    \u001b[0m                                                                          \u001b]8;id=224636;file:///Users/bytedance/mcp-demo/client.py\u001b\\\u001b[2mclient.py\u001b[0m\u001b]8;;\u001b\\\u001b[2m:\u001b[0m\u001b]8;id=938169;file:///Users/bytedance/mcp-demo/client.py#179\u001b\\\u001b[2m179\u001b[0m\u001b]8;;\u001b\\\n",
       "\u001b[2;36m                    \u001b[0m         Connected to server with tools: \u001b[1m[\u001b[0m\u001b[32m'get_alerts'\u001b[0m\u001b[1m]\u001b[0m                           \u001b[2m             \u001b[0m\n"
      ]
     },
     "metadata": {},
     "output_type": "display_data"
    }
   ],
   "source": [
    "from client import MCPClient\n",
    "\n",
    "client = MCPClient()\n",
    "# asyncio.run(client.initialize())\n",
    "await client.initialize(config_file=\".server_config_test.json\")"
   ]
  },
  {
   "cell_type": "code",
   "execution_count": 3,
   "id": "933ee439",
   "metadata": {},
   "outputs": [
    {
     "name": "stdout",
     "output_type": "stream",
     "text": [
      "'get_alerts'\n",
      "('Get weather alerts for a US state. The state must be in the US!!! Otherwise '\n",
      " 'the result is useless.\\n'\n",
      " '\\n'\n",
      " 'Args:\\n'\n",
      " '    state: Two-letter US state code (e.g. CA, NY)\\n')\n",
      "{'properties': {'state': {'title': 'State', 'type': 'string'}},\n",
      " 'required': ['state'],\n",
      " 'title': 'get_alertsArguments',\n",
      " 'type': 'object'}\n"
     ]
    }
   ],
   "source": [
    "from pprint import pprint\n",
    "\n",
    "tools = client.list_tools()\n",
    "pprint(tools[0].name)\n",
    "pprint(tools[0].description)\n",
    "pprint(tools[0].inputSchema)"
   ]
  },
  {
   "cell_type": "code",
   "execution_count": 5,
   "id": "4794f252",
   "metadata": {},
   "outputs": [
    {
     "data": {
      "text/html": [
       "<pre style=\"white-space:pre;overflow-x:auto;line-height:normal;font-family:Menlo,'DejaVu Sans Mono',consolas,'Courier New',monospace\"><span style=\"color: #7fbfbf; text-decoration-color: #7fbfbf\">[06/06/25 15:38:07] </span><span style=\"color: #008000; text-decoration-color: #008000\">DEBUG   </span> call_tool: get_alerts with args <span style=\"font-weight: bold\">{</span><span style=\"color: #008000; text-decoration-color: #008000\">'state'</span>: <span style=\"color: #008000; text-decoration-color: #008000\">'NY'</span><span style=\"font-weight: bold\">}</span><span style=\"color: #808000; text-decoration-color: #808000\">...</span>                       <a href=\"file:///Users/bytedance/mcp-demo/client.py\" target=\"_blank\"><span style=\"color: #7f7f7f; text-decoration-color: #7f7f7f\">client.py</span></a><span style=\"color: #7f7f7f; text-decoration-color: #7f7f7f\">:</span><a href=\"file:///Users/bytedance/mcp-demo/client.py#191\" target=\"_blank\"><span style=\"color: #7f7f7f; text-decoration-color: #7f7f7f\">191</span></a>\n",
       "</pre>\n"
      ],
      "text/plain": [
       "\u001b[2;36m[06/06/25 15:38:07]\u001b[0m\u001b[2;36m \u001b[0m\u001b[32mDEBUG   \u001b[0m call_tool: get_alerts with args \u001b[1m{\u001b[0m\u001b[32m'state'\u001b[0m: \u001b[32m'NY'\u001b[0m\u001b[1m}\u001b[0m\u001b[33m...\u001b[0m                       \u001b]8;id=355738;file:///Users/bytedance/mcp-demo/client.py\u001b\\\u001b[2mclient.py\u001b[0m\u001b]8;;\u001b\\\u001b[2m:\u001b[0m\u001b]8;id=714292;file:///Users/bytedance/mcp-demo/client.py#191\u001b\\\u001b[2m191\u001b[0m\u001b]8;;\u001b\\\n"
      ]
     },
     "metadata": {},
     "output_type": "display_data"
    },
    {
     "data": {
      "text/html": [
       "<pre style=\"white-space:pre;overflow-x:auto;line-height:normal;font-family:Menlo,'DejaVu Sans Mono',consolas,'Courier New',monospace\"><span style=\"color: #7fbfbf; text-decoration-color: #7fbfbf\">[06/06/25 15:38:08] </span><span style=\"color: #008000; text-decoration-color: #008000\">DEBUG   </span> <span style=\"font-weight: bold\">[</span>Calling tool get_alerts with args <span style=\"font-weight: bold\">{</span><span style=\"color: #008000; text-decoration-color: #008000\">'state'</span>: <span style=\"color: #008000; text-decoration-color: #008000\">'NY'</span><span style=\"font-weight: bold\">}]</span>,                     <a href=\"file:///Users/bytedance/mcp-demo/client.py\" target=\"_blank\"><span style=\"color: #7f7f7f; text-decoration-color: #7f7f7f\">client.py</span></a><span style=\"color: #7f7f7f; text-decoration-color: #7f7f7f\">:</span><a href=\"file:///Users/bytedance/mcp-demo/client.py#205\" target=\"_blank\"><span style=\"color: #7f7f7f; text-decoration-color: #7f7f7f\">205</span></a>\n",
       "<span style=\"color: #7fbfbf; text-decoration-color: #7fbfbf\">                    </span>           result: <span style=\"font-weight: bold\">[</span><span style=\"color: #800080; text-decoration-color: #800080; font-weight: bold\">TextContent</span><span style=\"font-weight: bold\">(</span><span style=\"color: #808000; text-decoration-color: #808000\">type</span>=<span style=\"color: #008000; text-decoration-color: #008000\">'text'</span>, <span style=\"color: #808000; text-decoration-color: #808000\">text</span>=<span style=\"color: #008000; text-decoration-color: #008000\">'\\nEvent: Flood Watch\\nArea: </span>   <span style=\"color: #7f7f7f; text-decoration-color: #7f7f7f\">             </span>\n",
       "<span style=\"color: #7fbfbf; text-decoration-color: #7fbfbf\">                    </span>         <span style=\"color: #008000; text-decoration-color: #008000\">Chenango; Otsego; Delaware\\nSeverity: Severe\\nDescription: * </span>            <span style=\"color: #7f7f7f; text-decoration-color: #7f7f7f\">             </span>\n",
       "<span style=\"color: #7fbfbf; text-decoration-color: #7fbfbf\">                    </span>         <span style=\"color: #008000; text-decoration-color: #008000\">WHAT...Flash flooding caused by excessive rainfall is possible.\\n\\n* </span>    <span style=\"color: #7f7f7f; text-decoration-color: #7f7f7f\">             </span>\n",
       "<span style=\"color: #7fbfbf; text-decoration-color: #7fbfbf\">                    </span>         <span style=\"color: #008000; text-decoration-color: #008000\">WHERE...A portion of central New York, including the </span>                    <span style=\"color: #7f7f7f; text-decoration-color: #7f7f7f\">             </span>\n",
       "<span style=\"color: #7fbfbf; text-decoration-color: #7fbfbf\">                    </span>         <span style=\"color: #008000; text-decoration-color: #008000\">following\\ncounties, Chenango, Delaware and Otsego.\\n\\n* WHEN...From </span>    <span style=\"color: #7f7f7f; text-decoration-color: #7f7f7f\">             </span>\n",
       "<span style=\"color: #7fbfbf; text-decoration-color: #7fbfbf\">                    </span>         <span style=\"color: #008000; text-decoration-color: #008000\">noon EDT today through this evening.\\n\\n* IMPACTS...Excessive runoff may</span> <span style=\"color: #7f7f7f; text-decoration-color: #7f7f7f\">             </span>\n",
       "<span style=\"color: #7fbfbf; text-decoration-color: #7fbfbf\">                    </span>         <span style=\"color: #008000; text-decoration-color: #008000\">result in flooding of rivers,\\ncreeks, streams, and other low-lying and </span> <span style=\"color: #7f7f7f; text-decoration-color: #7f7f7f\">             </span>\n",
       "<span style=\"color: #7fbfbf; text-decoration-color: #7fbfbf\">                    </span>         <span style=\"color: #008000; text-decoration-color: #008000\">flood-prone locations.\\n\\n* ADDITIONAL DETAILS...\\n- With a humid air </span>   <span style=\"color: #7f7f7f; text-decoration-color: #7f7f7f\">             </span>\n",
       "<span style=\"color: #7fbfbf; text-decoration-color: #7fbfbf\">                    </span>         <span style=\"color: #008000; text-decoration-color: #008000\">mass in place, repeated clusters of showers\\nand thunderstorms with </span>     <span style=\"color: #7f7f7f; text-decoration-color: #7f7f7f\">             </span>\n",
       "<span style=\"color: #7fbfbf; text-decoration-color: #7fbfbf\">                    </span>         <span style=\"color: #008000; text-decoration-color: #008000\">heavy downpours will lead to an\\nincreased risk for flash flooding. Poor</span> <span style=\"color: #7f7f7f; text-decoration-color: #7f7f7f\">             </span>\n",
       "<span style=\"color: #7fbfbf; text-decoration-color: #7fbfbf\">                    </span>         <span style=\"color: #008000; text-decoration-color: #008000\">drainage areas, and\\nlocations that already received recent heavy </span>       <span style=\"color: #7f7f7f; text-decoration-color: #7f7f7f\">             </span>\n",
       "<span style=\"color: #7fbfbf; text-decoration-color: #7fbfbf\">                    </span>         <span style=\"color: #008000; text-decoration-color: #008000\">rainfall, will\\nbe most susceptible to flooding.\\n- </span>                     <span style=\"color: #7f7f7f; text-decoration-color: #7f7f7f\">             </span>\n",
       "<span style=\"color: #7fbfbf; text-decoration-color: #7fbfbf\">                    </span>         <span style=\"color: #008000; text-decoration-color: #008000\">https://www.weather.gov/safety/flood\\nInstructions: You should monitor </span>  <span style=\"color: #7f7f7f; text-decoration-color: #7f7f7f\">             </span>\n",
       "<span style=\"color: #7fbfbf; text-decoration-color: #7fbfbf\">                    </span>         <span style=\"color: #008000; text-decoration-color: #008000\">later forecasts and be prepared to take action\\nshould Flash Flood </span>      <span style=\"color: #7f7f7f; text-decoration-color: #7f7f7f\">             </span>\n",
       "<span style=\"color: #7fbfbf; text-decoration-color: #7fbfbf\">                    </span>         <span style=\"color: #008000; text-decoration-color: #008000\">Warnings be issued.\\n\\n---\\n\\nEvent: Flood Watch\\nArea: Northern </span>        <span style=\"color: #7f7f7f; text-decoration-color: #7f7f7f\">             </span>\n",
       "<span style=\"color: #7fbfbf; text-decoration-color: #7fbfbf\">                    </span>         <span style=\"color: #008000; text-decoration-color: #008000\">Berkshire; Southern Berkshire; Schoharie; Western Schenectady; Eastern </span>  <span style=\"color: #7f7f7f; text-decoration-color: #7f7f7f\">             </span>\n",
       "<span style=\"color: #7fbfbf; text-decoration-color: #7fbfbf\">                    </span>         <span style=\"color: #008000; text-decoration-color: #008000\">Schenectady; Southern Saratoga; Western Albany; Eastern Albany; Western </span> <span style=\"color: #7f7f7f; text-decoration-color: #7f7f7f\">             </span>\n",
       "<span style=\"color: #7fbfbf; text-decoration-color: #7fbfbf\">                    </span>         <span style=\"color: #008000; text-decoration-color: #008000\">Rensselaer; Eastern Rensselaer; Western Greene; Eastern Greene; Western </span> <span style=\"color: #7f7f7f; text-decoration-color: #7f7f7f\">             </span>\n",
       "<span style=\"color: #7fbfbf; text-decoration-color: #7fbfbf\">                    </span>         <span style=\"color: #008000; text-decoration-color: #008000\">Columbia; Eastern Columbia\\nSeverity: Severe\\nDescription: * </span>            <span style=\"color: #7f7f7f; text-decoration-color: #7f7f7f\">             </span>\n",
       "<span style=\"color: #7fbfbf; text-decoration-color: #7fbfbf\">                    </span>         <span style=\"color: #008000; text-decoration-color: #008000\">WHAT...Flash flooding caused by excessive rainfall is possible.\\n\\n* </span>    <span style=\"color: #7f7f7f; text-decoration-color: #7f7f7f\">             </span>\n",
       "<span style=\"color: #7fbfbf; text-decoration-color: #7fbfbf\">                    </span>         <span style=\"color: #008000; text-decoration-color: #008000\">WHERE...The Berkshires of western Massachusetts and the Capital\\nRegion,</span> <span style=\"color: #7f7f7f; text-decoration-color: #7f7f7f\">             </span>\n",
       "<span style=\"color: #7fbfbf; text-decoration-color: #7fbfbf\">                    </span>         <span style=\"color: #008000; text-decoration-color: #008000\">Helderbergs, northern Taconics and all of Columbia,\\nSchoharie and </span>      <span style=\"color: #7f7f7f; text-decoration-color: #7f7f7f\">             </span>\n",
       "<span style=\"color: #7fbfbf; text-decoration-color: #7fbfbf\">                    </span>         <span style=\"color: #008000; text-decoration-color: #008000\">Greene Counties of eastern New York\\n\\n* WHEN...From noon EDT today </span>     <span style=\"color: #7f7f7f; text-decoration-color: #7f7f7f\">             </span>\n",
       "<span style=\"color: #7fbfbf; text-decoration-color: #7fbfbf\">                    </span>         <span style=\"color: #008000; text-decoration-color: #008000\">through this evening.\\n\\n* IMPACTS...Excessive runoff may result in </span>     <span style=\"color: #7f7f7f; text-decoration-color: #7f7f7f\">             </span>\n",
       "<span style=\"color: #7fbfbf; text-decoration-color: #7fbfbf\">                    </span>         <span style=\"color: #008000; text-decoration-color: #008000\">flooding of rivers,\\ncreeks, streams, and other low-lying and </span>           <span style=\"color: #7f7f7f; text-decoration-color: #7f7f7f\">             </span>\n",
       "<span style=\"color: #7fbfbf; text-decoration-color: #7fbfbf\">                    </span>         <span style=\"color: #008000; text-decoration-color: #008000\">flood-prone locations.\\nFlooding may occur in poor drainage and urban </span>   <span style=\"color: #7f7f7f; text-decoration-color: #7f7f7f\">             </span>\n",
       "<span style=\"color: #7fbfbf; text-decoration-color: #7fbfbf\">                    </span>         <span style=\"color: #008000; text-decoration-color: #008000\">areas.\\n\\n* ADDITIONAL DETAILS...\\n- With a humid air mass in place, </span>    <span style=\"color: #7f7f7f; text-decoration-color: #7f7f7f\">             </span>\n",
       "<span style=\"color: #7fbfbf; text-decoration-color: #7fbfbf\">                    </span>         <span style=\"color: #008000; text-decoration-color: #008000\">repeated rounds of showers\\nand thunderstorms with heavy downpours on </span>   <span style=\"color: #7f7f7f; text-decoration-color: #7f7f7f\">             </span>\n",
       "<span style=\"color: #7fbfbf; text-decoration-color: #7fbfbf\">                    </span>         <span style=\"color: #008000; text-decoration-color: #008000\">Friday will lead to\\nan increased risk for flash flooding. Urban, low </span>   <span style=\"color: #7f7f7f; text-decoration-color: #7f7f7f\">             </span>\n",
       "<span style=\"color: #7fbfbf; text-decoration-color: #7fbfbf\">                    </span>         <span style=\"color: #008000; text-decoration-color: #008000\">lying and\\npoor drainage areas will be most susceptible to flooding.\\n- </span> <span style=\"color: #7f7f7f; text-decoration-color: #7f7f7f\">             </span>\n",
       "<span style=\"color: #7fbfbf; text-decoration-color: #7fbfbf\">                    </span>         <span style=\"color: #008000; text-decoration-color: #008000\">http://www.weather.gov/safety/flood\\nInstructions: You should monitor </span>   <span style=\"color: #7f7f7f; text-decoration-color: #7f7f7f\">             </span>\n",
       "<span style=\"color: #7fbfbf; text-decoration-color: #7fbfbf\">                    </span>         <span style=\"color: #008000; text-decoration-color: #008000\">later forecasts and be prepared to take action\\nshould Flash Flood </span>      <span style=\"color: #7f7f7f; text-decoration-color: #7f7f7f\">             </span>\n",
       "<span style=\"color: #7fbfbf; text-decoration-color: #7fbfbf\">                    </span>         <span style=\"color: #008000; text-decoration-color: #008000\">Warnings be issued.\\n'</span>, <span style=\"color: #808000; text-decoration-color: #808000\">annotations</span>=<span style=\"color: #800080; text-decoration-color: #800080; font-style: italic\">None</span><span style=\"font-weight: bold\">)]</span>                               <span style=\"color: #7f7f7f; text-decoration-color: #7f7f7f\">             </span>\n",
       "</pre>\n"
      ],
      "text/plain": [
       "\u001b[2;36m[06/06/25 15:38:08]\u001b[0m\u001b[2;36m \u001b[0m\u001b[32mDEBUG   \u001b[0m \u001b[1m[\u001b[0mCalling tool get_alerts with args \u001b[1m{\u001b[0m\u001b[32m'state'\u001b[0m: \u001b[32m'NY'\u001b[0m\u001b[1m}\u001b[0m\u001b[1m]\u001b[0m,                     \u001b]8;id=646180;file:///Users/bytedance/mcp-demo/client.py\u001b\\\u001b[2mclient.py\u001b[0m\u001b]8;;\u001b\\\u001b[2m:\u001b[0m\u001b]8;id=121790;file:///Users/bytedance/mcp-demo/client.py#205\u001b\\\u001b[2m205\u001b[0m\u001b]8;;\u001b\\\n",
       "\u001b[2;36m                    \u001b[0m           result: \u001b[1m[\u001b[0m\u001b[1;35mTextContent\u001b[0m\u001b[1m(\u001b[0m\u001b[33mtype\u001b[0m=\u001b[32m'text'\u001b[0m, \u001b[33mtext\u001b[0m=\u001b[32m'\\nEvent: Flood Watch\\nArea: \u001b[0m   \u001b[2m             \u001b[0m\n",
       "\u001b[2;36m                    \u001b[0m         \u001b[32mChenango; Otsego; Delaware\\nSeverity: Severe\\nDescription: * \u001b[0m            \u001b[2m             \u001b[0m\n",
       "\u001b[2;36m                    \u001b[0m         \u001b[32mWHAT...Flash flooding caused by excessive rainfall is possible.\\n\\n* \u001b[0m    \u001b[2m             \u001b[0m\n",
       "\u001b[2;36m                    \u001b[0m         \u001b[32mWHERE...A portion of central New York, including the \u001b[0m                    \u001b[2m             \u001b[0m\n",
       "\u001b[2;36m                    \u001b[0m         \u001b[32mfollowing\\ncounties, Chenango, Delaware and Otsego.\\n\\n* WHEN...From \u001b[0m    \u001b[2m             \u001b[0m\n",
       "\u001b[2;36m                    \u001b[0m         \u001b[32mnoon EDT today through this evening.\\n\\n* IMPACTS...Excessive runoff may\u001b[0m \u001b[2m             \u001b[0m\n",
       "\u001b[2;36m                    \u001b[0m         \u001b[32mresult in flooding of rivers,\\ncreeks, streams, and other low-lying and \u001b[0m \u001b[2m             \u001b[0m\n",
       "\u001b[2;36m                    \u001b[0m         \u001b[32mflood-prone locations.\\n\\n* ADDITIONAL DETAILS...\\n- With a humid air \u001b[0m   \u001b[2m             \u001b[0m\n",
       "\u001b[2;36m                    \u001b[0m         \u001b[32mmass in place, repeated clusters of showers\\nand thunderstorms with \u001b[0m     \u001b[2m             \u001b[0m\n",
       "\u001b[2;36m                    \u001b[0m         \u001b[32mheavy downpours will lead to an\\nincreased risk for flash flooding. Poor\u001b[0m \u001b[2m             \u001b[0m\n",
       "\u001b[2;36m                    \u001b[0m         \u001b[32mdrainage areas, and\\nlocations that already received recent heavy \u001b[0m       \u001b[2m             \u001b[0m\n",
       "\u001b[2;36m                    \u001b[0m         \u001b[32mrainfall, will\\nbe most susceptible to flooding.\\n- \u001b[0m                     \u001b[2m             \u001b[0m\n",
       "\u001b[2;36m                    \u001b[0m         \u001b[32mhttps://www.weather.gov/safety/flood\\nInstructions: You should monitor \u001b[0m  \u001b[2m             \u001b[0m\n",
       "\u001b[2;36m                    \u001b[0m         \u001b[32mlater forecasts and be prepared to take action\\nshould Flash Flood \u001b[0m      \u001b[2m             \u001b[0m\n",
       "\u001b[2;36m                    \u001b[0m         \u001b[32mWarnings be issued.\\n\\n---\\n\\nEvent: Flood Watch\\nArea: Northern \u001b[0m        \u001b[2m             \u001b[0m\n",
       "\u001b[2;36m                    \u001b[0m         \u001b[32mBerkshire; Southern Berkshire; Schoharie; Western Schenectady; Eastern \u001b[0m  \u001b[2m             \u001b[0m\n",
       "\u001b[2;36m                    \u001b[0m         \u001b[32mSchenectady; Southern Saratoga; Western Albany; Eastern Albany; Western \u001b[0m \u001b[2m             \u001b[0m\n",
       "\u001b[2;36m                    \u001b[0m         \u001b[32mRensselaer; Eastern Rensselaer; Western Greene; Eastern Greene; Western \u001b[0m \u001b[2m             \u001b[0m\n",
       "\u001b[2;36m                    \u001b[0m         \u001b[32mColumbia; Eastern Columbia\\nSeverity: Severe\\nDescription: * \u001b[0m            \u001b[2m             \u001b[0m\n",
       "\u001b[2;36m                    \u001b[0m         \u001b[32mWHAT...Flash flooding caused by excessive rainfall is possible.\\n\\n* \u001b[0m    \u001b[2m             \u001b[0m\n",
       "\u001b[2;36m                    \u001b[0m         \u001b[32mWHERE...The Berkshires of western Massachusetts and the Capital\\nRegion,\u001b[0m \u001b[2m             \u001b[0m\n",
       "\u001b[2;36m                    \u001b[0m         \u001b[32mHelderbergs, northern Taconics and all of Columbia,\\nSchoharie and \u001b[0m      \u001b[2m             \u001b[0m\n",
       "\u001b[2;36m                    \u001b[0m         \u001b[32mGreene Counties of eastern New York\\n\\n* WHEN...From noon EDT today \u001b[0m     \u001b[2m             \u001b[0m\n",
       "\u001b[2;36m                    \u001b[0m         \u001b[32mthrough this evening.\\n\\n* IMPACTS...Excessive runoff may result in \u001b[0m     \u001b[2m             \u001b[0m\n",
       "\u001b[2;36m                    \u001b[0m         \u001b[32mflooding of rivers,\\ncreeks, streams, and other low-lying and \u001b[0m           \u001b[2m             \u001b[0m\n",
       "\u001b[2;36m                    \u001b[0m         \u001b[32mflood-prone locations.\\nFlooding may occur in poor drainage and urban \u001b[0m   \u001b[2m             \u001b[0m\n",
       "\u001b[2;36m                    \u001b[0m         \u001b[32mareas.\\n\\n* ADDITIONAL DETAILS...\\n- With a humid air mass in place, \u001b[0m    \u001b[2m             \u001b[0m\n",
       "\u001b[2;36m                    \u001b[0m         \u001b[32mrepeated rounds of showers\\nand thunderstorms with heavy downpours on \u001b[0m   \u001b[2m             \u001b[0m\n",
       "\u001b[2;36m                    \u001b[0m         \u001b[32mFriday will lead to\\nan increased risk for flash flooding. Urban, low \u001b[0m   \u001b[2m             \u001b[0m\n",
       "\u001b[2;36m                    \u001b[0m         \u001b[32mlying and\\npoor drainage areas will be most susceptible to flooding.\\n- \u001b[0m \u001b[2m             \u001b[0m\n",
       "\u001b[2;36m                    \u001b[0m         \u001b[32mhttp://www.weather.gov/safety/flood\\nInstructions: You should monitor \u001b[0m   \u001b[2m             \u001b[0m\n",
       "\u001b[2;36m                    \u001b[0m         \u001b[32mlater forecasts and be prepared to take action\\nshould Flash Flood \u001b[0m      \u001b[2m             \u001b[0m\n",
       "\u001b[2;36m                    \u001b[0m         \u001b[32mWarnings be issued.\\n'\u001b[0m, \u001b[33mannotations\u001b[0m=\u001b[3;35mNone\u001b[0m\u001b[1m)\u001b[0m\u001b[1m]\u001b[0m                               \u001b[2m             \u001b[0m\n"
      ]
     },
     "metadata": {},
     "output_type": "display_data"
    },
    {
     "name": "stdout",
     "output_type": "stream",
     "text": [
      "('\\n'\n",
      " 'Event: Flood Watch\\n'\n",
      " 'Area: Chenango; Otsego; Delaware\\n'\n",
      " 'Severity: Severe\\n'\n",
      " 'Description: * WHAT...Flash flooding caused by excessive rainfall is '\n",
      " 'possible.\\n'\n",
      " '\\n'\n",
      " '* WHERE...A portion of central New York, including the following\\n'\n",
      " 'counties, Chenango, Delaware and Otsego.\\n'\n",
      " '\\n'\n",
      " '* WHEN...From noon EDT today through this evening.\\n'\n",
      " '\\n'\n",
      " '* IMPACTS...Excessive runoff may result in flooding of rivers,\\n'\n",
      " 'creeks, streams, and other low-lying and flood-prone locations.\\n'\n",
      " '\\n'\n",
      " '* ADDITIONAL DETAILS...\\n'\n",
      " '- With a humid air mass in place, repeated clusters of showers\\n'\n",
      " 'and thunderstorms with heavy downpours will lead to an\\n'\n",
      " 'increased risk for flash flooding. Poor drainage areas, and\\n'\n",
      " 'locations that already received recent heavy rainfall, will\\n'\n",
      " 'be most susceptible to flooding.\\n'\n",
      " '- https://www.weather.gov/safety/flood\\n'\n",
      " 'Instructions: You should monitor later forecasts and be prepared to take '\n",
      " 'action\\n'\n",
      " 'should Flash Flood Warnings be issued.\\n'\n",
      " '\\n'\n",
      " '---\\n'\n",
      " '\\n'\n",
      " 'Event: Flood Watch\\n'\n",
      " 'Area: Northern Berkshire; Southern Berkshire; Schoharie; Western '\n",
      " 'Schenectady; Eastern Schenectady; Southern Saratoga; Western Albany; Eastern '\n",
      " 'Albany; Western Rensselaer; Eastern Rensselaer; Western Greene; Eastern '\n",
      " 'Greene; Western Columbia; Eastern Columbia\\n'\n",
      " 'Severity: Severe\\n'\n",
      " 'Description: * WHAT...Flash flooding caused by excessive rainfall is '\n",
      " 'possible.\\n'\n",
      " '\\n'\n",
      " '* WHERE...The Berkshires of western Massachusetts and the Capital\\n'\n",
      " 'Region, Helderbergs, northern Taconics and all of Columbia,\\n'\n",
      " 'Schoharie and Greene Counties of eastern New York\\n'\n",
      " '\\n'\n",
      " '* WHEN...From noon EDT today through this evening.\\n'\n",
      " '\\n'\n",
      " '* IMPACTS...Excessive runoff may result in flooding of rivers,\\n'\n",
      " 'creeks, streams, and other low-lying and flood-prone locations.\\n'\n",
      " 'Flooding may occur in poor drainage and urban areas.\\n'\n",
      " '\\n'\n",
      " '* ADDITIONAL DETAILS...\\n'\n",
      " '- With a humid air mass in place, repeated rounds of showers\\n'\n",
      " 'and thunderstorms with heavy downpours on Friday will lead to\\n'\n",
      " 'an increased risk for flash flooding. Urban, low lying and\\n'\n",
      " 'poor drainage areas will be most susceptible to flooding.\\n'\n",
      " '- http://www.weather.gov/safety/flood\\n'\n",
      " 'Instructions: You should monitor later forecasts and be prepared to take '\n",
      " 'action\\n'\n",
      " 'should Flash Flood Warnings be issued.\\n')\n"
     ]
    }
   ],
   "source": [
    "result = await client.call_tool('test-id', 'get_alerts', {'state': 'NY'})\n",
    "pprint(result.result.content[0].text)"
   ]
  }
 ],
 "metadata": {
  "kernelspec": {
   "display_name": ".venv",
   "language": "python",
   "name": "python3"
  },
  "language_info": {
   "codemirror_mode": {
    "name": "ipython",
    "version": 3
   },
   "file_extension": ".py",
   "mimetype": "text/x-python",
   "name": "python",
   "nbconvert_exporter": "python",
   "pygments_lexer": "ipython3",
   "version": "3.13.4"
  }
 },
 "nbformat": 4,
 "nbformat_minor": 5
}
